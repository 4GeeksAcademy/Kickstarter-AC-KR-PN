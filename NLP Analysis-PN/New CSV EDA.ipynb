{
 "cells": [
  {
   "cell_type": "code",
   "execution_count": 1,
   "metadata": {},
   "outputs": [],
   "source": [
    "import os\n",
    "import numpy as np\n",
    "import matplotlib.pyplot as plt\n",
    "from wordcloud import WordCloud\n",
    "import regex as re\n",
    "from nltk import download\n",
    "from nltk.corpus import stopwords\n",
    "from nltk.stem import WordNetLemmatizer\n",
    "from sklearn.feature_extraction.text import TfidfVectorizer\n",
    "from sklearn.model_selection import train_test_split\n",
    "from sklearn.svm import SVC\n",
    "from sklearn.metrics import accuracy_score\n",
    "from sklearn.metrics import precision_score\n",
    "from sklearn.metrics import recall_score\n",
    "from sklearn.metrics import f1_score\n",
    "from sklearn.model_selection import GridSearchCV\n",
    "from pickle import dump\n",
    "from sklearn.metrics import confusion_matrix, ConfusionMatrixDisplay"
   ]
  },
  {
   "cell_type": "code",
   "execution_count": 2,
   "metadata": {},
   "outputs": [
    {
     "name": "stderr",
     "output_type": "stream",
     "text": [
      "C:\\Users\\Philip Nancollas\\AppData\\Local\\Temp\\ipykernel_11448\\2705097494.py:3: DtypeWarning: Columns (28) have mixed types. Specify dtype option on import or set low_memory=False.\n",
      "  df = pd.read_csv('kickstarterNew.csv')\n"
     ]
    }
   ],
   "source": [
    "import pandas as pd\n",
    "\n",
    "df = pd.read_csv('kickstarterNew.csv')"
   ]
  },
  {
   "cell_type": "code",
   "execution_count": 4,
   "metadata": {},
   "outputs": [],
   "source": [
    "df = df[['blurb', 'state', 'category_name']]"
   ]
  },
  {
   "cell_type": "code",
   "execution_count": 5,
   "metadata": {},
   "outputs": [
    {
     "data": {
      "text/plain": [
       "Index(['blurb', 'state', 'category_name'], dtype='object')"
      ]
     },
     "execution_count": 5,
     "metadata": {},
     "output_type": "execute_result"
    }
   ],
   "source": [
    "df.columns"
   ]
  },
  {
   "cell_type": "code",
   "execution_count": 6,
   "metadata": {},
   "outputs": [],
   "source": [
    "df = df.drop_duplicates()"
   ]
  },
  {
   "cell_type": "code",
   "execution_count": 7,
   "metadata": {},
   "outputs": [],
   "source": [
    "df_success = df[df['state'] == 'successful']"
   ]
  },
  {
   "cell_type": "code",
   "execution_count": 8,
   "metadata": {},
   "outputs": [],
   "source": [
    "df_fail = df[df['state'] == 'failed']"
   ]
  },
  {
   "cell_type": "code",
   "execution_count": 9,
   "metadata": {},
   "outputs": [
    {
     "data": {
      "text/plain": [
       "{'Music': 18721,\n",
       " 'Film & Video': 17819,\n",
       " 'Publishing': 16070,\n",
       " 'Art': 13503,\n",
       " 'Technology': 10811,\n",
       " 'Games': 9289,\n",
       " 'Comics': 7789,\n",
       " 'Fashion': 6958,\n",
       " 'Design': 5529,\n",
       " 'Food': 5366,\n",
       " 'Theater': 3418,\n",
       " 'Photography': 2887,\n",
       " 'Crafts': 2058,\n",
       " 'Dance': 1174,\n",
       " 'Journalism': 959}"
      ]
     },
     "execution_count": 9,
     "metadata": {},
     "output_type": "execute_result"
    }
   ],
   "source": [
    "success_counts = df_success['category_name'].value_counts()\n",
    "success_counts = success_counts.to_dict()\n",
    "success_counts"
   ]
  },
  {
   "cell_type": "code",
   "execution_count": 10,
   "metadata": {},
   "outputs": [
    {
     "data": {
      "text/plain": [
       "{'Food': 10646,\n",
       " 'Film & Video': 10622,\n",
       " 'Technology': 10361,\n",
       " 'Music': 8228,\n",
       " 'Art': 7757,\n",
       " 'Publishing': 6318,\n",
       " 'Crafts': 4529,\n",
       " 'Fashion': 4323,\n",
       " 'Games': 3760,\n",
       " 'Photography': 3711,\n",
       " 'Design': 3107,\n",
       " 'Journalism': 2856,\n",
       " 'Theater': 2144,\n",
       " 'Comics': 926,\n",
       " 'Dance': 784}"
      ]
     },
     "execution_count": 10,
     "metadata": {},
     "output_type": "execute_result"
    }
   ],
   "source": [
    "fail_counts = df_fail['category_name'].value_counts()\n",
    "fail_counts = fail_counts.to_dict()\n",
    "fail_counts"
   ]
  },
  {
   "cell_type": "code",
   "execution_count": 11,
   "metadata": {},
   "outputs": [],
   "source": [
    "category_ratio = fail_counts"
   ]
  },
  {
   "cell_type": "code",
   "execution_count": 12,
   "metadata": {},
   "outputs": [],
   "source": [
    "for key in fail_counts.keys():\n",
    "    category_ratio[key] = success_counts[key]/fail_counts[key]"
   ]
  },
  {
   "cell_type": "code",
   "execution_count": 13,
   "metadata": {},
   "outputs": [
    {
     "data": {
      "text/plain": [
       "{'Food': 0.5040390757091866,\n",
       " 'Film & Video': 1.6775560158162304,\n",
       " 'Technology': 1.0434321011485377,\n",
       " 'Music': 2.2752795333009237,\n",
       " 'Art': 1.7407502900605905,\n",
       " 'Publishing': 2.5435264324153213,\n",
       " 'Crafts': 0.45440494590417313,\n",
       " 'Fashion': 1.609530418690724,\n",
       " 'Games': 2.470478723404255,\n",
       " 'Photography': 0.7779574238749664,\n",
       " 'Design': 1.7795300933376248,\n",
       " 'Journalism': 0.33578431372549017,\n",
       " 'Theater': 1.5942164179104477,\n",
       " 'Comics': 8.411447084233261,\n",
       " 'Dance': 1.4974489795918366}"
      ]
     },
     "execution_count": 13,
     "metadata": {},
     "output_type": "execute_result"
    }
   ],
   "source": [
    "category_ratio"
   ]
  }
 ],
 "metadata": {
  "kernelspec": {
   "display_name": "Python 3",
   "language": "python",
   "name": "python3"
  },
  "language_info": {
   "codemirror_mode": {
    "name": "ipython",
    "version": 3
   },
   "file_extension": ".py",
   "mimetype": "text/x-python",
   "name": "python",
   "nbconvert_exporter": "python",
   "pygments_lexer": "ipython3",
   "version": "3.9.4"
  }
 },
 "nbformat": 4,
 "nbformat_minor": 2
}
